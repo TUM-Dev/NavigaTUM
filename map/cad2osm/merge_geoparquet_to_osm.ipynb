{
 "cells": [
  {
   "metadata": {},
   "cell_type": "code",
   "outputs": [],
   "execution_count": null,
   "source": [
    "!pip install geopandas pandas pyarrow matplotlib shapely momepy numpy topojson ipywidgets\n",
    "import geopandas as gpd\n",
    "import math\n",
    "import shapely\n",
    "import shapely.plotting\n",
    "import momepy\n",
    "import pandas as pd\n",
    "import numpy as np\n",
    "import topojson as tp"
   ],
   "id": "a3f991c6cfb8cbf7"
  },
  {
   "metadata": {},
   "cell_type": "code",
   "source": [
    "filename = \"01-05-0510-090_1.UG.parquet\"\n",
    "#filename = \"01-05-0510-100_EG.parquet\"\n",
    "#filename = \"01-05-0510-110_1.OG.parquet\"\n",
    "#filename = \"01-05-0510-111_1.OG.Z.1.parquet\"\n",
    "df = gpd.read_parquet(filename)\n",
    "df[\"level\"] = df[\"level\"].astype(\"category\")\n",
    "df[\"type\"] = df[\"type\"].astype(\"category\")\n",
    "df[\"tid\"] = np.arange(len(df))\n",
    "\n",
    "# the current extraction logic is a bit messy with this => lets split for better analysis\n",
    "# df[\"super_type\"] = df[\"name\"].map(lambda s: s.split(\" | \")[0])\n",
    "# df[\"sub_type_id\"] = df[\"name\"].map(lambda s: int(s.split(\"(\")[1].strip(\")\")))\n",
    "# df[\"sub_type\"] = df[\"name\"].map(lambda s: s.split(\"(\")[0].split(\" | \")[1]).astype(\"category\")\n",
    "df = df.rename(columns={\"height\": \"height_geom\"})  # todo: remove once reprocessed\n",
    "df.drop(\"name\", inplace=True, axis=1)\n",
    "# df"
   ],
   "id": "9d05a56fa727b8a1",
   "outputs": [],
   "execution_count": null
  },
  {
   "metadata": {},
   "cell_type": "code",
   "source": [
    "# the generated metadata is pretty messy => lets clean it up before further looking at it\n",
    "def fix_metadata(d: dict) -> dict:\n",
    "    result = {}\n",
    "    if not d:  # can also be None\n",
    "        d = {}\n",
    "    for k, v in d.items():\n",
    "        if k == \"None\":\n",
    "            for k2, v2 in fix_metadata(v).items():\n",
    "                result[k2] = v2\n",
    "        elif isinstance(v, dict):\n",
    "            for k2, v2 in fix_metadata(v).items():\n",
    "                result[k + \".\" + k2] = v2\n",
    "        elif v is None or v.strip() in [\"None\", \"-\", \"-_-\", \"-_\", \"_-\", \"\"]:  # why though?\n",
    "            result[k] = None\n",
    "        elif v.strip() in [\"True\", \"False\"]:\n",
    "            result[k] = bool(v)\n",
    "        else:\n",
    "            result[k] = v.strip()  # valid string\n",
    "    return result\n",
    "\n",
    "\n",
    "df[\"metadata\"] = df[\"metadata\"].map(fix_metadata)"
   ],
   "id": "39f81b905942208e",
   "outputs": [],
   "execution_count": null
  },
  {
   "cell_type": "code",
   "id": "6d21d6017f72b6e0",
   "metadata": {},
   "source": [
    "df"
   ],
   "outputs": [],
   "execution_count": null
  },
  {
   "cell_type": "code",
   "id": "752feb9e4e9abfac",
   "metadata": {},
   "source": [
    "doors = df[df[\"type\"] == \"door\"].copy(deep=True)\n",
    "doors[\"indoor\"] = \"door\"\n",
    "spaces = df[df[\"type\"] == \"space\"].copy(deep=True)\n",
    "spaces[\"indoor\"] = \"room\"\n",
    "openings = df[df[\"type\"] == \"opening\"].copy(deep=True)"
   ],
   "outputs": [],
   "execution_count": null
  },
  {
   "cell_type": "code",
   "id": "8b1abdcc8fde2fa4",
   "metadata": {},
   "source": [
    "spaces = spaces.explode()  # we really don't want to deal with multipolygons"
   ],
   "outputs": [],
   "execution_count": null
  },
  {
   "cell_type": "code",
   "id": "3d0aaee712d7416a",
   "metadata": {},
   "source": [
    "def visualise_points():\n",
    "    ax = spaces.plot(color=\"white\", edgecolor=\"black\", figsize=(50, 50))\n",
    "    ax.set_axis_off()\n",
    "    gs = []\n",
    "    for geom in spaces[\"geometry\"]:\n",
    "        for x, y in zip(*geom.exterior.coords.xy):\n",
    "            point = shapely.Point(x, y)\n",
    "            gs.append(point)\n",
    "    gpd.GeoSeries(gs).plot(ax=ax, marker=\"x\", color=\"red\", markersize=100)\n",
    "\n",
    "\n",
    "visualise_points()"
   ],
   "outputs": [],
   "execution_count": null
  },
  {
   "cell_type": "code",
   "id": "c1e1f3e8a8daec59",
   "metadata": {},
   "source": [
    "def simplify_shapes(inp_geom: gpd.GeoSeries) -> gpd.GeoSeries:\n",
    "    return inp_geom.map(lambda g: shapely.simplify(g, tolerance=0.1))\n",
    "\n",
    "\n",
    "spaces[\"geometry\"] = simplify_shapes(spaces[\"geometry\"])\n",
    "\n",
    "visualise_points()"
   ],
   "outputs": [],
   "execution_count": null
  },
  {
   "cell_type": "code",
   "id": "18d130f5ab4b0718",
   "metadata": {},
   "source": [
    "ax = spaces.plot(color=\"white\", edgecolor=\"black\", figsize=(50, 50))\n",
    "ax.set_axis_off()\n",
    "doors.plot(ax=ax, marker=\"x\", color=\"green\", markersize=100)\n",
    "openings.plot(ax=ax, marker=\"x\", color=\"red\", markersize=100)"
   ],
   "outputs": [],
   "execution_count": null
  },
  {
   "cell_type": "code",
   "id": "49d9d2177e5dc3e0",
   "metadata": {},
   "source": [
    "limit = gpd.GeoSeries(momepy.buffered_limit(spaces, buffer=0.35))\n",
    "limit = gpd.GeoSeries(momepy.buffered_limit(limit, buffer=-0.35 / 2))\n",
    "ax = limit.plot(color=\"red\", edgecolor=\"darkred\", figsize=(50, 50))\n",
    "ax.set_axis_off()\n",
    "spaces.plot(ax=ax, color=\"green\", edgecolor=\"darkgreen\")"
   ],
   "outputs": [],
   "execution_count": null
  },
  {
   "cell_type": "code",
   "id": "initial_id",
   "metadata": {
    "collapsed": true
   },
   "source": [
    "tessellation = momepy.enclosed_tessellation(spaces, enclosures=limit, shrink=0.01, segment=0.005, threshold=0.05)\n",
    "# tessellation = gpd.GeoSeries(simplify_shapes(tessellation.geometry))\n",
    "ax = tessellation.plot(edgecolor=\"red\", figsize=(50, 50))\n",
    "spaces.plot(ax=ax, color=\"green\", alpha=0.5)\n",
    "ax.set_axis_off()"
   ],
   "outputs": [],
   "execution_count": null
  },
  {
   "cell_type": "code",
   "id": "9e015bc89285e045",
   "metadata": {},
   "source": [
    "simplified_tessellation = tp.Topology(tessellation.geometry, prequantize=False).toposimplify(0.1).to_gdf()\n",
    "\n",
    "ax = simplified_tessellation.plot(edgecolor=\"red\", figsize=(50, 50))\n",
    "spaces.plot(ax=ax, color=\"green\", alpha=0.5)\n",
    "ax.set_axis_off()"
   ],
   "outputs": [],
   "execution_count": null
  },
  {
   "cell_type": "code",
   "id": "abd97c638e02de07",
   "metadata": {},
   "source": [
    "spaces[\"geometry\"] = simplified_tessellation.geometry"
   ],
   "outputs": [],
   "execution_count": null
  },
  {
   "cell_type": "code",
   "id": "c82797cec9c1387a",
   "metadata": {},
   "source": [
    "spaces[\"geometry\"]"
   ],
   "outputs": [],
   "execution_count": null
  },
  {
   "cell_type": "code",
   "id": "f9affac782ad7223",
   "metadata": {},
   "source": [
    "doors[\"width_geom\"] = doors[\"geometry\"].minimum_bounding_circle().area.map(lambda a: 2 * math.sqrt(a / math.pi))\n",
    "# ø = 2 · √(A / π)\n",
    "doors[\"geometry\"] = doors[\"geometry\"].centroid\n",
    "doors.drop(\"type\", axis=1, inplace=True)\n",
    "doors"
   ],
   "outputs": [],
   "execution_count": null
  },
  {
   "cell_type": "code",
   "id": "6fab2bf4eea13113",
   "metadata": {},
   "source": [
    "# spaces.drop([\"type\", \"super_type\", \"sub_type_id\", \"sub_type\"], axis=1, inplace=True)\n",
    "spaces.drop([\"type\"], axis=1, inplace=True)\n",
    "spaces"
   ],
   "outputs": [],
   "execution_count": null
  },
  {
   "cell_type": "code",
   "id": "34ca669f0b6bbf01",
   "metadata": {},
   "source": [
    "visualise_points()"
   ],
   "outputs": [],
   "execution_count": null
  },
  {
   "cell_type": "code",
   "id": "dfe06a46630f728f",
   "metadata": {},
   "source": [
    "for k, v in doors.metadata.iloc[0].items():\n",
    "    print(k.rjust(50), v)"
   ],
   "outputs": [],
   "execution_count": null
  },
  {
   "cell_type": "code",
   "id": "b1ea5c89495dc8e8",
   "metadata": {},
   "source": [
    "# is this door hinged?\n",
    "doors[\"door\"] = doors.metadata.map(lambda m: m.get(\"PanelOperation\"))\n",
    "doors[\"door\"] = doors[\"door\"].map(lambda d: {\"SWINGING\": \"hinged\", None: \"yes\"}[d])\n",
    "doors.door = doors.door.astype(\"category\")"
   ],
   "outputs": [],
   "execution_count": null
  },
  {
   "cell_type": "code",
   "id": "423c600b40d92932",
   "metadata": {},
   "source": [
    "def try_to_float(f: str | None) -> float | None:\n",
    "    if f is None:\n",
    "        return None\n",
    "    try:\n",
    "        return float(f)\n",
    "    except ValueError:\n",
    "        print(f\"Could not convert '{f}' to float\")\n",
    "        return None\n",
    "\n",
    "\n",
    "# geometry according to metadata\n",
    "doors[\"height_meta\"] = doors.metadata.map(lambda m: try_to_float(m.get(\"Türen.Höhe\")))\n",
    "doors[\"width_meta\"] = doors.metadata.map(lambda m: try_to_float(m.get(\"Türen.Breite\")))"
   ],
   "outputs": [],
   "execution_count": null
  },
  {
   "cell_type": "code",
   "id": "3f661de50d99f52e",
   "metadata": {},
   "source": [
    "doors"
   ],
   "outputs": [],
   "execution_count": null
  },
  {
   "cell_type": "code",
   "id": "37c229909b5fcb5f",
   "metadata": {},
   "source": [
    "for dimension in [\"height\", \"width\"]:\n",
    "    dimension_known = (doors[f\"{dimension}_meta\"] - doors[f\"{dimension}_geom\"]).abs() < 0.4\n",
    "    doors[dimension] = doors[f\"{dimension}_meta\"]\n",
    "    doors[dimension] = doors[dimension].where(dimension_known)\n",
    "    doors.drop([f\"{dimension}_meta\", f\"{dimension}_geom\"], inplace=True, axis=1)"
   ],
   "outputs": [],
   "execution_count": null
  },
  {
   "cell_type": "code",
   "id": "111f58e3b694ca09",
   "metadata": {},
   "source": [
    "# doors.drop([\"super_type\", \"sub_type_id\"], inplace=True, axis=1)"
   ],
   "outputs": [],
   "execution_count": null
  },
  {
   "cell_type": "code",
   "id": "8899ed3a8faeea4c",
   "metadata": {},
   "source": [
    "spaces.metadata"
   ],
   "outputs": [],
   "execution_count": null
  },
  {
   "cell_type": "code",
   "id": "c44487563b328f73",
   "metadata": {},
   "source": [
    "for k, v in spaces.metadata.iloc[0].items():\n",
    "    print(k.rjust(50), v)\n",
    "\n",
    "    \"\"\"\n",
    "\n",
    "    Raum.Projekt.Geschoßbezeichnung None\n",
    "    Raum.Projekt.Geschoßhöhe None\n",
    "    Raum.Projekt.Geschoßniveau None\n",
    "\n",
    "   Raum.Nummer 0533B\n",
    "    Raum.RaumNR -0533B\n",
    "    Raum.FM.Raum.ID 02-55-5505-100-533B\n",
    "\n",
    "    Türen None\n",
    "    Türen.FM None\n",
    "    Türen.SAP None\n",
    "    Türstil None\"\"\""
   ],
   "outputs": [],
   "execution_count": null
  },
  {
   "cell_type": "code",
   "id": "b5b0f253496ab4c1",
   "metadata": {},
   "source": [
    "spaces[\"height_meta\"] = spaces.metadata.map(lambda m: try_to_float(m.get(\"Raum.Lichte.Raumhöhe\")))\n",
    "spaces[\"height_meta2\"] = spaces.metadata.map(lambda m: try_to_float(m.get(\"Raum.Gesamt.Raumhöhe\")))\n",
    "spaces[\"height_meta3\"] = spaces.metadata.map(lambda m: try_to_float(m.get(\"ADT_Pset_Space.CeilingHeight\")))"
   ],
   "outputs": [],
   "execution_count": null
  },
  {
   "cell_type": "code",
   "id": "249e5b821ffa9594",
   "metadata": {},
   "source": [
    "dimension_known = (spaces[\"height_meta\"] - spaces[\"height_geom\"]).abs() < 2.0\n",
    "dimension_known &= (spaces[\"height_meta\"] - spaces[\"height_meta2\"]).abs() < 2.0\n",
    "dimension_known &= (spaces[\"height_meta\"] - spaces[\"height_meta3\"]).abs() < 2.0\n",
    "\n",
    "spaces[\"height\"] = spaces[\"height_meta\"]\n",
    "spaces[\"height\"] = spaces[\"height\"].where(dimension_known)\n",
    "spaces.drop([\"height_meta\", \"height_meta2\", \"height_meta3\", \"height_geom\"], inplace=True, axis=1)"
   ],
   "outputs": [],
   "execution_count": null
  },
  {
   "cell_type": "code",
   "id": "a2e22a32da1aa301",
   "metadata": {},
   "source": [
    "spaces[\"ref\"] = spaces.metadata.map(lambda m: m.get(\"Raum.Nummer\"))\n",
    "spaces[\"ref2\"] = spaces.metadata.map(lambda m: m.get(\"Raum.RaumNR\"))\n",
    "\n",
    "RAUM_TO_SAP_LEVEL_LUT = {\"100\": \"EG\", \"090\": \"U1\", \"110\": \"01\", \"120\": \"02\", \"130\": \"03\", \"140\": \"04\"}\n",
    "\n",
    "\n",
    "def to_tum_sap_raum_id(m: str | None) -> str | None:\n",
    "    \"\"\"02-55-5505-100-533B  -> 5505.EG.533B\"\"\"\n",
    "    if m is None:\n",
    "        return None\n",
    "    r_parts = m.split(\"-\")\n",
    "    r_parts = r_parts[2:]\n",
    "    if r_parts[1] not in RAUM_TO_SAP_LEVEL_LUT:\n",
    "        raise ValueError(\n",
    "            f\"{r_parts[1]} (in room name {m}) is not a valid raum level. Please update RAUM_TO_SAP_LEVEL_LUT\"\n",
    "        )\n",
    "    r_parts[1] = RAUM_TO_SAP_LEVEL_LUT[r_parts[1]]\n",
    "    return \".\".join(r_parts)\n",
    "\n",
    "\n",
    "spaces[\"ref:tum\"] = spaces.metadata.map(lambda m: to_tum_sap_raum_id(m.get(\"Raum.FM.Raum.ID\")))"
   ],
   "outputs": [],
   "execution_count": null
  },
  {
   "cell_type": "code",
   "id": "d1df2829c30b9a34",
   "metadata": {},
   "source": [
    "spaces[\"name_meta1\"] = spaces.metadata.map(lambda m: m.get(\"Raum.Name\"))\n",
    "spaces[\"name_meta2\"] = spaces.metadata.map(lambda m: m.get(\"Raum.FM.Raum.Name.Lang\"))\n",
    "spaces[\"name_meta3\"] = spaces.metadata.map(lambda m: m.get(\"Raum.FM.Raum.Name.Z1\"))\n",
    "spaces[\"name_meta4\"] = spaces.metadata.map(lambda m: m.get(\"Raum.FM.Raum.Name.Z2\"))\n",
    "spaces[\"name_meta5\"] = spaces.metadata.map(lambda m: m.get(\"Raum.FM.Raum.Name.Z3\"))"
   ],
   "outputs": [],
   "execution_count": null
  },
  {
   "cell_type": "code",
   "id": "ac3981e0c4190f79",
   "metadata": {},
   "source": [
    "def any_name_eq(comp: str) -> gpd.GeoSeries:\n",
    "    return (\n",
    "            (spaces[\"name_meta1\"] == comp)\n",
    "            | (spaces[\"name_meta2\"] == comp)\n",
    "            | (spaces[\"name_meta3\"] == comp)\n",
    "            | (spaces[\"name_meta4\"] == comp)\n",
    "            | (spaces[\"name_meta5\"] == comp)\n",
    "    )\n",
    "\n",
    "\n",
    "def any_name_like(comp: str) -> gpd.GeoSeries:\n",
    "    return (\n",
    "            spaces[\"name_meta1\"].map(lambda n: n is not None and comp in n)\n",
    "            | spaces[\"name_meta2\"].map(lambda n: n is not None and comp in n)\n",
    "            | spaces[\"name_meta3\"].map(lambda n: n is not None and comp in n)\n",
    "            | spaces[\"name_meta4\"].map(lambda n: n is not None and comp in n)\n",
    "            | spaces[\"name_meta5\"].map(lambda n: n is not None and comp in n)\n",
    "    )\n",
    "\n",
    "\n",
    "is_corridor = any_name_eq(\"Flur\") | any_name_like(\"Flure\")\n",
    "is_luft = any_name_eq(\"Luftflächen\") | any_name_eq(\"Straße\") | any_name_eq(\"Fahrzeugverkehrsfläche\")\n",
    "is_elevator = any_name_eq(\"Personenaufzug\") | any_name_like(\"Hebebühne\")\n",
    "is_stair = any_name_eq(\"Treppenhaus\") | any_name_eq(\"Treppe\")\n",
    "\n",
    "# sanity check: not-luft => ref2 is ref, but with a minus...\n",
    "assert (is_luft | (spaces[\"ref\"].map(lambda r: \"-\" + r if r else None) == spaces[\"ref2\"])).all()\n",
    "spaces.drop([\"ref2\"], inplace=True, axis=1)\n",
    "\n",
    "spaces.drop([\"name_meta1\", \"name_meta2\", \"name_meta3\", \"name_meta4\", \"name_meta5\"], inplace=True, axis=1)"
   ],
   "outputs": [],
   "execution_count": null
  },
  {
   "cell_type": "code",
   "id": "d3ef188645a118f2",
   "metadata": {},
   "source": [
    "spaces[\"room\"] = is_elevator.map(lambda b: \"elevator\" if b else None)\n",
    "spaces.loc[is_stair, \"room\"] = \"stairs\"\n",
    "spaces.loc[is_corridor, \"indoor\"] = \"corridor\"\n",
    "spaces = spaces[~is_luft].copy(deep=True)"
   ],
   "outputs": [],
   "execution_count": null
  },
  {
   "cell_type": "code",
   "id": "d8435a4a3bee352e",
   "metadata": {},
   "source": [
    "# final dropping of random junk\n",
    "# spaces.drop([\"metadata\"], inplace=True, axis=1)\n",
    "# doors.drop([\"metadata\"], inplace=True, axis=1)"
   ],
   "outputs": [],
   "execution_count": null
  },
  {
   "cell_type": "code",
   "id": "1183c5ae5a7ca1bd",
   "metadata": {},
   "source": [
    "df = gpd.GeoDataFrame(pd.concat([spaces, doors], ignore_index=True))\n",
    "out = filename.replace(\".parquet\", \".geojson\")\n",
    "df_json: str = df.to_json(na=\"drop\", drop_id=True, to_wgs84=True)\n",
    "with open(out, \"w\") as f:\n",
    "    f.write(df_json)"
   ],
   "outputs": [],
   "execution_count": null
  },
  {
   "cell_type": "code",
   "id": "b222005931666172",
   "metadata": {},
   "source": [
    "filename"
   ],
   "outputs": [],
   "execution_count": null
  }
 ],
 "metadata": {
  "kernelspec": {
   "display_name": "Python 3",
   "language": "python",
   "name": "python3"
  },
  "language_info": {
   "codemirror_mode": {
    "name": "ipython",
    "version": 2
   },
   "file_extension": ".py",
   "mimetype": "text/x-python",
   "name": "python",
   "nbconvert_exporter": "python",
   "pygments_lexer": "ipython2",
   "version": "2.7.6"
  }
 },
 "nbformat": 4,
 "nbformat_minor": 5
}

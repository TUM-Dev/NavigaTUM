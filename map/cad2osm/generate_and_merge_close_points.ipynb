{
 "cells": [
  {
   "cell_type": "code",
   "execution_count": null,
   "id": "6f6accf1768bc3fb",
   "metadata": {},
   "outputs": [],
   "source": [
    "def generate_new_points(geom: gpd.GeoSeries) -> dict[int, set[shapely.Point]]:\n",
    "    points_to_add: dict[int, set[shapely.Point]] = dict()\n",
    "    g1: shapely.Polygon\n",
    "    g2: shapely.Polygon\n",
    "    for i1, geometry_1 in enumerate(geom):\n",
    "        for x, y in zip(*geometry_1.exterior.coords.xy):\n",
    "            point = shapely.Point(x, y)\n",
    "            for i2, geometry_2 in enumerate(geom):\n",
    "                if i2 == i1:  # matching itsself does not make sense\n",
    "                    continue\n",
    "                distance = geometry_2.distance(point)\n",
    "                if distance > 0.125:\n",
    "                    continue  # semi arbitrary cutoff after which merging does not make sense\n",
    "                # insert point perpendicular\n",
    "                points_to_add.setdefault(i2, set())\n",
    "                for perpendicular_point in nearest_points(geometry_2, point):\n",
    "                    points_to_add[i2].add(perpendicular_point)\n",
    "\n",
    "    return points_to_add\n",
    "\n",
    "\n",
    "hallucinated_points = generate_new_points(spaces.geometry)"
   ]
  },
  {
   "metadata": {},
   "cell_type": "code",
   "outputs": [],
   "execution_count": null,
   "source": [
    "def visualise_hallucinated_points():\n",
    "    points_to_add_list = list(itertools.chain.from_iterable(hallucinated_points.values()))\n",
    "    hallucinated_point_df = gpd.GeoDataFrame(geometry=list(points_to_add_list), crs=df.crs)\n",
    "    ax = spaces.plot(color=\"white\", edgecolor=\"black\", figsize=(50, 50))\n",
    "    ax.set_axis_off()\n",
    "    hallucinated_point_df.plot(ax=ax, marker=\"x\", color=\"pink\", markersize=100)\n",
    "\n",
    "\n",
    "visualise_hallucinated_points()"
   ],
   "id": "14574e2319ca879e"
  },
  {
   "metadata": {},
   "cell_type": "code",
   "outputs": [],
   "execution_count": null,
   "source": [
    "def apply_hallucinated_points():\n",
    "    geom = []\n",
    "    for i, g in enumerate(spaces[\"geometry\"]):\n",
    "        if i not in hallucinated_points:\n",
    "            geom.append(g)\n",
    "            continue\n",
    "\n",
    "        if points := hallucinated_points[i]:\n",
    "            # from https://gis.stackexchange.com/questions/188594/how-can-i-add-points-to-a-linestring-in-shapely\n",
    "            ring = shapely.LineString(points)\n",
    "            union = ring.union(g)\n",
    "            g = polygonize(union)[0]\n",
    "        geom.append(g)\n",
    "    spaces[\"geometry\"] = geom\n",
    "\n",
    "\n",
    "apply_hallucinated_points()\n",
    "visualise_points()"
   ],
   "id": "48a0e6242ad84960"
  },
  {
   "metadata": {},
   "cell_type": "code",
   "outputs": [],
   "execution_count": null,
   "source": [
    "def merge_points(point: shapely.Point, possible_points: set[shapely.Point]) -> shapely.Point:\n",
    "    assert len(possible_points) >= 1\n",
    "    assert shapely.Point(point)\n",
    "    assert all([shapely.Point(p) for p in possible_points])\n",
    "\n",
    "    new_geometry = [point]\n",
    "    while True:\n",
    "        geom = shapely.MultiPoint(new_geometry)\n",
    "        matching_points = set()\n",
    "        for p2 in possible_points:\n",
    "            if geom.distance(p2) < 0.125:\n",
    "                matching_points.add(p2)\n",
    "        if not matching_points:\n",
    "            return geom.centroid\n",
    "        possible_points.difference_update(matching_points)\n",
    "        new_geometry.extend(matching_points)\n",
    "\n",
    "\n",
    "def move_geometries():\n",
    "    geom = []\n",
    "    for g1 in spaces[\"geometry\"]:\n",
    "        points = [shapely.Point(x, y) for (x, y) in zip(*g1.exterior.coords.xy)]\n",
    "        for i, point in enumerate(points):\n",
    "            possible_points = set()\n",
    "            for g2 in spaces[\"geometry\"]:\n",
    "                if g2.distance(point) < 3:\n",
    "                    for x, y in zip(*g2.exterior.coords.xy):\n",
    "                        possible_points.add(shapely.Point(x, y))\n",
    "            if possible_points:\n",
    "                points[i] = merge_points(point, possible_points)\n",
    "        geom.append(shapely.Polygon(points))\n",
    "    spaces[\"geometry\"] = geom\n",
    "\n",
    "\n",
    "move_geometries()\n",
    "visualise_points()"
   ],
   "id": "8f76d31c7e3eaf06"
  },
  {
   "metadata": {
    "collapsed": true
   },
   "cell_type": "code",
   "outputs": [],
   "execution_count": null,
   "source": [
    "simplify_shapes()\n",
    "visualise_points()"
   ],
   "id": "initial_id"
  }
 ],
 "metadata": {
  "kernelspec": {
   "display_name": "Python 3",
   "language": "python",
   "name": "python3"
  },
  "language_info": {
   "codemirror_mode": {
    "name": "ipython",
    "version": 2
   },
   "file_extension": ".py",
   "mimetype": "text/x-python",
   "name": "python",
   "nbconvert_exporter": "python",
   "pygments_lexer": "ipython2",
   "version": "2.7.6"
  }
 },
 "nbformat": 4,
 "nbformat_minor": 5
}
